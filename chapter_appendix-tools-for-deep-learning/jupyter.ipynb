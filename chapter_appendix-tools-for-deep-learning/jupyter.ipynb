{
  "cells": [
    {
      "cell_type": "markdown",
      "id": "31d9a4c9",
      "metadata": {
        "origin_pos": 0,
        "id": "31d9a4c9"
      },
      "source": [
        "# Using Jupyter Notebooks\n",
        ":label:`sec_jupyter`\n",
        "\n",
        "\n",
        "This section describes how to edit and run the code\n",
        "in each section of this book\n",
        "using the Jupyter Notebook. Make sure you have\n",
        "installed Jupyter and downloaded the\n",
        "code as described in\n",
        ":ref:`chap_installation`.\n",
        "If you want to know more about Jupyter see the excellent tutorial in\n",
        "their [documentation](https://jupyter.readthedocs.io/en/latest/).\n",
        "\n",
        "\n",
        "## Editing and Running the Code Locally\n",
        "\n",
        "Suppose that the local path of the book's code is `xx/yy/d2l-en/`. Use the shell to change the directory to this path (`cd xx/yy/d2l-en`) and run the command `jupyter notebook`. If your browser does not do this automatically, open http://localhost:8888 and you will see the interface of Jupyter and all the folders containing the code of the book, as shown in :numref:`fig_jupyter00`.\n",
        "\n",
        "![The folders containing the code of this book.](https://github.com/d2l-ai/d2l-en-colab/blob/master/img/jupyter00.png?raw=1)\n",
        ":width:`600px`\n",
        ":label:`fig_jupyter00`\n",
        "\n",
        "\n",
        "You can access the notebook files by clicking on the folder displayed on the webpage.\n",
        "They usually have the suffix \".ipynb\".\n",
        "For the sake of brevity, we create a temporary \"test.ipynb\" file.\n",
        "The content displayed after you click it is\n",
        "shown in :numref:`fig_jupyter01`.\n",
        "This notebook includes a markdown cell and a code cell. The content in the markdown cell includes \"This Is a Title\" and \"This is text.\".\n",
        "The code cell contains two lines of Python code.\n",
        "\n",
        "![Markdown and code cells in the \"text.ipynb\" file.](https://github.com/d2l-ai/d2l-en-colab/blob/master/img/jupyter01.png?raw=1)\n",
        ":width:`600px`\n",
        ":label:`fig_jupyter01`\n",
        "\n",
        "\n",
        "Double click on the markdown cell to enter edit mode.\n",
        "Add a new text string \"Hello world.\" at the end of the cell, as shown in :numref:`fig_jupyter02`.\n",
        "\n",
        "![Edit the markdown cell.](https://github.com/d2l-ai/d2l-en-colab/blob/master/img/jupyter02.png?raw=1)\n",
        ":width:`600px`\n",
        ":label:`fig_jupyter02`\n",
        "\n",
        "\n",
        "As demonstrated in :numref:`fig_jupyter03`,\n",
        "click \"Cell\" $\\rightarrow$ \"Run Cells\" in the menu bar to run the edited cell.\n",
        "\n",
        "![Run the cell.](https://github.com/d2l-ai/d2l-en-colab/blob/master/img/jupyter03.png?raw=1)\n",
        ":width:`600px`\n",
        ":label:`fig_jupyter03`\n",
        "\n",
        "After running, the markdown cell is shown in :numref:`fig_jupyter04`.\n",
        "\n",
        "![The markdown cell after running.](https://github.com/d2l-ai/d2l-en-colab/blob/master/img/jupyter04.png?raw=1)\n",
        ":width:`600px`\n",
        ":label:`fig_jupyter04`\n",
        "\n",
        "\n",
        "Next, click on the code cell. Multiply the elements by 2 after the last line of code, as shown in :numref:`fig_jupyter05`.\n",
        "\n",
        "![Edit the code cell.](https://github.com/d2l-ai/d2l-en-colab/blob/master/img/jupyter05.png?raw=1)\n",
        ":width:`600px`\n",
        ":label:`fig_jupyter05`\n",
        "\n",
        "\n",
        "You can also run the cell with a shortcut (\"Ctrl + Enter\" by default) and obtain the output result from :numref:`fig_jupyter06`.\n",
        "\n",
        "![Run the code cell to obtain the output.](https://github.com/d2l-ai/d2l-en-colab/blob/master/img/jupyter06.png?raw=1)\n",
        ":width:`600px`\n",
        ":label:`fig_jupyter06`\n",
        "\n",
        "\n",
        "When a notebook contains more cells, we can click \"Kernel\" $\\rightarrow$ \"Restart & Run All\" in the menu bar to run all the cells in the entire notebook. By clicking \"Help\" $\\rightarrow$ \"Edit Keyboard Shortcuts\" in the menu bar, you can edit the shortcuts according to your preferences.\n",
        "\n",
        "## Advanced Options\n",
        "\n",
        "Beyond local editing two things are quite important: editing the notebooks in the markdown format and running Jupyter remotely.\n",
        "The latter matters when we want to run the code on a faster server.\n",
        "The former matters since Jupyter's native ipynb format stores a lot of auxiliary data that is\n",
        "irrelevant to the content,\n",
        "mostly related to how and where the code is run.\n",
        "This is confusing for Git, making\n",
        "reviewing contributions very difficult.\n",
        "Fortunately there is an alternative---native editing in the markdown format.\n",
        "\n",
        "### Markdown Files in Jupyter\n",
        "\n",
        "If you wish to contribute to the content of this book, you need to modify the\n",
        "source file (md file, not ipynb file) on GitHub.\n",
        "Using the notedown plugin we\n",
        "can modify notebooks in the md format directly in Jupyter.\n",
        "\n",
        "\n",
        "First, install the notedown plugin, run the Jupyter Notebook, and load the plugin:\n",
        "\n",
        "```\n",
        "pip install d2l-notedown  # You may need to uninstall the original notedown.\n",
        "jupyter notebook --NotebookApp.contents_manager_class='notedown.NotedownContentsManager'\n",
        "```\n",
        "\n",
        "You may also turn on the notedown plugin by default whenever you run the Jupyter Notebook.\n",
        "First, generate a Jupyter Notebook configuration file (if it has already been generated, you can skip this step).\n",
        "\n",
        "```\n",
        "jupyter notebook --generate-config\n",
        "```\n",
        "\n",
        "Then, add the following line to the end of the Jupyter Notebook configuration file (for Linux or macOS, usually in the path `~/.jupyter/jupyter_notebook_config.py`):\n",
        "\n",
        "```\n",
        "c.NotebookApp.contents_manager_class = 'notedown.NotedownContentsManager'\n",
        "```\n",
        "\n",
        "After that, you only need to run the `jupyter notebook` command to turn on the notedown plugin by default.\n",
        "\n",
        "### Running Jupyter Notebooks on a Remote Server\n",
        "\n",
        "Sometimes, you may want to run Jupyter notebooks on a remote server and access it through a browser on your local computer. If Linux or macOS is installed on your local machine (Windows can also support this function through third-party software such as PuTTY), you can use port forwarding:\n",
        "\n",
        "```\n",
        "ssh myserver -L 8888:localhost:8888\n",
        "```\n",
        "\n",
        "The above string `myserver` is the address of the remote server.\n",
        "Then we can use http://localhost:8888 to access the remote server `myserver` that runs Jupyter notebooks. We will detail on how to run Jupyter notebooks on AWS instances\n",
        "later in this appendix.\n",
        "\n",
        "### Timing\n",
        "\n",
        "We can use the `ExecuteTime` plugin to time the execution of each code cell in Jupyter notebooks.\n",
        "Use the following commands to install the plugin:\n",
        "\n",
        "```\n",
        "pip install jupyter_contrib_nbextensions\n",
        "jupyter contrib nbextension install --user\n",
        "jupyter nbextension enable execute_time/ExecuteTime\n",
        "```\n",
        "\n",
        "## Summary\n",
        "\n",
        "* Using the Jupyter Notebook tool, we can edit, run, and contribute to each section of the book.\n",
        "* We can run Jupyter notebooks on remote servers using port forwarding.\n",
        "\n",
        "\n",
        "## Exercises\n",
        "\n",
        "1. Edit and run the code in this book with the Jupyter Notebook on your local machine.\n",
        "1. Edit and run the code in this book with the Jupyter Notebook *remotely* via port forwarding.\n",
        "1. Compare the running time of the operations $\\mathbf{A}^\\top \\mathbf{B}$ and $\\mathbf{A} \\mathbf{B}$ for two square matrices in $\\mathbb{R}^{1024 \\times 1024}$. Which one is faster?\n",
        "\n",
        "\n",
        "[Discussions](https://discuss.d2l.ai/t/421)\n"
      ]
    },
    {
      "cell_type": "code",
      "source": [
        "from sklearn.datasets import make_classification\n",
        "from sklearn.model_selection import train_test_split\n",
        "from sklearn.metrics import accuracy_score\n",
        "from sklearn.tree import DecisionTreeClassifier\n",
        "import matplotlib.pyplot as plt"
      ],
      "metadata": {
        "id": "idFA1kvqkfEk"
      },
      "id": "idFA1kvqkfEk",
      "execution_count": 1,
      "outputs": []
    },
    {
      "cell_type": "code",
      "source": [
        "X,y=make_classification(n_samples=9000,n_features=18,n_informative=4,n_redundant=12,random_state=42)"
      ],
      "metadata": {
        "id": "UPfeMjcYk2Mu"
      },
      "id": "UPfeMjcYk2Mu",
      "execution_count": 2,
      "outputs": []
    },
    {
      "cell_type": "code",
      "source": [
        "X_train,X_test,y_train,y_test=train_test_split(X,y,test_size=0.3,random_state=42)"
      ],
      "metadata": {
        "id": "bCnj8Q-OluiA"
      },
      "id": "bCnj8Q-OluiA",
      "execution_count": 3,
      "outputs": []
    },
    {
      "cell_type": "code",
      "source": [
        "train_score,test_score=[],[]"
      ],
      "metadata": {
        "id": "tXY_dUHEmMRy"
      },
      "id": "tXY_dUHEmMRy",
      "execution_count": 4,
      "outputs": []
    },
    {
      "cell_type": "code",
      "source": [
        "values=[i for i in range(1,21)]"
      ],
      "metadata": {
        "id": "woRUY5QhmWTx"
      },
      "id": "woRUY5QhmWTx",
      "execution_count": 6,
      "outputs": []
    },
    {
      "cell_type": "code",
      "source": [
        "for i in values:\n",
        "  model=DecisionTreeClassifier(max_depth=i)\n",
        "  model.fit(X_train,y_train)\n",
        "\n",
        "  train_yhat=model.predict(X_train)\n",
        "  test_yhat=model.predict(X_test)\n",
        "\n",
        "  train_acc=accuracy_score(y_train,train_yhat)\n",
        "  test_acc=accuracy_score(y_test,test_yhat)\n",
        "\n",
        "  train_score.append(train_acc)\n",
        "  test_score.append(test_acc)\n",
        "\n",
        "  print(f\"Depth: {i}, Train Accuracy: {train_acc:.3f}, Test Accuracy: {test_acc:.3f}\")"
      ],
      "metadata": {
        "id": "Z2448xPzmjXg",
        "outputId": "8f704839-cf1b-446b-c3a0-cd204e63126b",
        "colab": {
          "base_uri": "https://localhost:8080/"
        }
      },
      "id": "Z2448xPzmjXg",
      "execution_count": 7,
      "outputs": [
        {
          "output_type": "stream",
          "name": "stdout",
          "text": [
            "Depth: 1, Train Accuracy: 0.730, Test Accuracy: 0.721\n",
            "Depth: 2, Train Accuracy: 0.773, Test Accuracy: 0.767\n",
            "Depth: 3, Train Accuracy: 0.864, Test Accuracy: 0.849\n",
            "Depth: 4, Train Accuracy: 0.884, Test Accuracy: 0.863\n",
            "Depth: 5, Train Accuracy: 0.895, Test Accuracy: 0.874\n",
            "Depth: 6, Train Accuracy: 0.902, Test Accuracy: 0.878\n",
            "Depth: 7, Train Accuracy: 0.918, Test Accuracy: 0.887\n",
            "Depth: 8, Train Accuracy: 0.932, Test Accuracy: 0.912\n",
            "Depth: 9, Train Accuracy: 0.945, Test Accuracy: 0.914\n",
            "Depth: 10, Train Accuracy: 0.955, Test Accuracy: 0.919\n",
            "Depth: 11, Train Accuracy: 0.966, Test Accuracy: 0.920\n",
            "Depth: 12, Train Accuracy: 0.972, Test Accuracy: 0.919\n",
            "Depth: 13, Train Accuracy: 0.979, Test Accuracy: 0.914\n",
            "Depth: 14, Train Accuracy: 0.983, Test Accuracy: 0.913\n",
            "Depth: 15, Train Accuracy: 0.987, Test Accuracy: 0.911\n",
            "Depth: 16, Train Accuracy: 0.991, Test Accuracy: 0.916\n",
            "Depth: 17, Train Accuracy: 0.993, Test Accuracy: 0.913\n",
            "Depth: 18, Train Accuracy: 0.995, Test Accuracy: 0.914\n",
            "Depth: 19, Train Accuracy: 0.996, Test Accuracy: 0.911\n",
            "Depth: 20, Train Accuracy: 0.997, Test Accuracy: 0.916\n"
          ]
        }
      ]
    },
    {
      "cell_type": "code",
      "source": [
        "plt.plot(values,train_score,'-o',label='Trained data')\n",
        "plt.plot(values,test_score,'-o',label='Tested data')\n",
        "plt.legend()\n",
        "plt.show()"
      ],
      "metadata": {
        "id": "EShI4va4oWw0",
        "outputId": "e7515337-c401-40b7-fd9b-9657c85ac274",
        "colab": {
          "base_uri": "https://localhost:8080/",
          "height": 430
        }
      },
      "id": "EShI4va4oWw0",
      "execution_count": 9,
      "outputs": [
        {
          "output_type": "display_data",
          "data": {
            "text/plain": [
              "<Figure size 640x480 with 1 Axes>"
            ],
            "image/png": "[encoded data removed]"
          },
          "metadata": {}
        }
      ]
    },
    {
      "cell_type": "code",
      "source": [
        "from sklearn.model_selection import GridSearchCV"
      ],
      "metadata": {
        "id": "l44v-nKZqT91"
      },
      "id": "l44v-nKZqT91",
      "execution_count": 10,
      "outputs": []
    },
    {
      "cell_type": "code",
      "source": [
        "param_grid = {\n",
        "    'criterion': ['gini', 'entropy'],\n",
        "    'max_depth': [2, 4, 6, 10, 20],\n",
        "    'min_samples_split': [5, 10, 20, 50, 100]\n",
        "}\n",
        "\n",
        "# Initialize GridSearchCV\n",
        "clf = GridSearchCV(\n",
        "    estimator=DecisionTreeClassifier(),\n",
        "    param_grid=param_grid,\n",
        "    cv=3,  # 3-fold cross-validation\n",
        "    n_jobs=1,\n",
        "    scoring=\"accuracy\"\n",
        ")\n"
      ],
      "metadata": {
        "id": "MKmtMhjQqVko"
      },
      "id": "MKmtMhjQqVko",
      "execution_count": 11,
      "outputs": []
    },
    {
      "cell_type": "code",
      "source": [
        "clf.fit(X_train, y_train)\n",
        "\n",
        "# Print the best estimator\n",
        "print(\"Best Estimator:\", clf.best_estimator_)"
      ],
      "metadata": {
        "id": "aJ6u0i7RqaX_",
        "outputId": "01419a6f-fd5d-4ac5-efc5-6ea62a787a2e",
        "colab": {
          "base_uri": "https://localhost:8080/"
        }
      },
      "id": "aJ6u0i7RqaX_",
      "execution_count": 12,
      "outputs": [
        {
          "output_type": "stream",
          "name": "stdout",
          "text": [
            "Best Estimator: DecisionTreeClassifier(max_depth=10, min_samples_split=10)\n"
          ]
        }
      ]
    },
    {
      "cell_type": "code",
      "source": [
        "train_accuracy = accuracy_score(y_train, clf.best_estimator_.predict(X_train))\n",
        "test_accuracy = accuracy_score(y_test, clf.best_estimator_.predict(X_test))\n",
        "\n",
        "print(f\"Train Accuracy: {train_accuracy:.3f}\")\n",
        "print(f\"Test Accuracy: {test_accuracy:.3f}\")"
      ],
      "metadata": {
        "id": "NVWldElNqmsQ",
        "outputId": "221ac6d6-887f-4282-dbb8-85e6201a83ae",
        "colab": {
          "base_uri": "https://localhost:8080/"
        }
      },
      "id": "NVWldElNqmsQ",
      "execution_count": 13,
      "outputs": [
        {
          "output_type": "stream",
          "name": "stdout",
          "text": [
            "Train Accuracy: 0.950\n",
            "Test Accuracy: 0.915\n"
          ]
        }
      ]
    }
  ],
  "metadata": {
    "kernelspec": {
      "display_name": "Python 3",
      "name": "python3"
    },
    "language_info": {
      "name": "python"
    },
    "required_libs": [],
    "colab": {
      "provenance": []
    }
  },
  "nbformat": 4,
  "nbformat_minor": 5
}